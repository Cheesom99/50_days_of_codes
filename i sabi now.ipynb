{
 "cells": [
  {
   "cell_type": "code",
   "execution_count": 1,
   "id": "2e386afa",
   "metadata": {},
   "outputs": [],
   "source": [
    "import pandas as pd\n",
    "import numpy as np\n",
    "\n"
   ]
  },
  {
   "cell_type": "code",
   "execution_count": 5,
   "id": "d9eb51fa",
   "metadata": {},
   "outputs": [],
   "source": [
    "data = {1:'Bad vibe', 2:'good vibe', 3:'neutral vibe'}\n",
    "cheesoms_diary = pd.DataFrame(index =['A', 'B', 'C'], data=data)"
   ]
  },
  {
   "cell_type": "code",
   "execution_count": 6,
   "id": "5e6bde09",
   "metadata": {},
   "outputs": [
    {
     "data": {
      "text/html": [
       "<div>\n",
       "<style scoped>\n",
       "    .dataframe tbody tr th:only-of-type {\n",
       "        vertical-align: middle;\n",
       "    }\n",
       "\n",
       "    .dataframe tbody tr th {\n",
       "        vertical-align: top;\n",
       "    }\n",
       "\n",
       "    .dataframe thead th {\n",
       "        text-align: right;\n",
       "    }\n",
       "</style>\n",
       "<table border=\"1\" class=\"dataframe\">\n",
       "  <thead>\n",
       "    <tr style=\"text-align: right;\">\n",
       "      <th></th>\n",
       "      <th>1</th>\n",
       "      <th>2</th>\n",
       "      <th>3</th>\n",
       "    </tr>\n",
       "  </thead>\n",
       "  <tbody>\n",
       "    <tr>\n",
       "      <th>A</th>\n",
       "      <td>Bad vibe</td>\n",
       "      <td>good vibe</td>\n",
       "      <td>neutral vibe</td>\n",
       "    </tr>\n",
       "    <tr>\n",
       "      <th>B</th>\n",
       "      <td>Bad vibe</td>\n",
       "      <td>good vibe</td>\n",
       "      <td>neutral vibe</td>\n",
       "    </tr>\n",
       "    <tr>\n",
       "      <th>C</th>\n",
       "      <td>Bad vibe</td>\n",
       "      <td>good vibe</td>\n",
       "      <td>neutral vibe</td>\n",
       "    </tr>\n",
       "  </tbody>\n",
       "</table>\n",
       "</div>"
      ],
      "text/plain": [
       "          1          2             3\n",
       "A  Bad vibe  good vibe  neutral vibe\n",
       "B  Bad vibe  good vibe  neutral vibe\n",
       "C  Bad vibe  good vibe  neutral vibe"
      ]
     },
     "execution_count": 6,
     "metadata": {},
     "output_type": "execute_result"
    }
   ],
   "source": [
    "cheesoms_diary.head()"
   ]
  },
  {
   "cell_type": "code",
   "execution_count": null,
   "id": "d20df476",
   "metadata": {},
   "outputs": [],
   "source": []
  }
 ],
 "metadata": {
  "kernelspec": {
   "display_name": "Python 3 (ipykernel)",
   "language": "python",
   "name": "python3"
  },
  "language_info": {
   "codemirror_mode": {
    "name": "ipython",
    "version": 3
   },
   "file_extension": ".py",
   "mimetype": "text/x-python",
   "name": "python",
   "nbconvert_exporter": "python",
   "pygments_lexer": "ipython3",
   "version": "3.9.7"
  }
 },
 "nbformat": 4,
 "nbformat_minor": 5
}
